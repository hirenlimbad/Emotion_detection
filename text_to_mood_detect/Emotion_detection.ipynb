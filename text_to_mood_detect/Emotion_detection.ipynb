{
 "cells": [
  {
   "cell_type": "markdown",
   "metadata": {},
   "source": [
    "# Emotion Detection using twitter Dataset\n",
    "\n",
    "\n",
    "##### 5 type of emotion\n",
    "sadness (0), joy (1), love (2), anger (3), fear (4).\n",
    "https://www.kaggle.com/datasets/parulpandey/emotion-dataset\n",
    "#### Score 88%"
   ]
  },
  {
   "cell_type": "code",
   "execution_count": null,
   "metadata": {
    "id": "-iVJUK_2_2Kk"
   },
   "outputs": [],
   "source": [
    "import pandas as pd\n",
    "import nltk\n",
    "from nltk.corpus import stopwords\n",
    "from sklearn.feature_extraction.text import CountVectorizer\n",
    "from sklearn.ensemble import RandomForestClassifier\n",
    "from sklearn.pipeline import Pipeline\n",
    "from sklearn.model_selection import cross_val_score"
   ]
  },
  {
   "cell_type": "code",
   "execution_count": null,
   "metadata": {
    "colab": {
     "base_uri": "https://localhost:8080/",
     "height": 206
    },
    "id": "bGSo423RAPN2",
    "outputId": "753c7645-79fc-4f51-d57b-e7d62a52b956"
   },
   "outputs": [],
   "source": [
    "df = pd.read_csv('tweet_2.csv')\n",
    "df.head()"
   ]
  },
  {
   "cell_type": "markdown",
   "metadata": {
    "id": "X74861ZgBPSb"
   },
   "source": [
    "## Refining text using nltk and punkt"
   ]
  },
  {
   "cell_type": "code",
   "execution_count": null,
   "metadata": {
    "colab": {
     "base_uri": "https://localhost:8080/"
    },
    "id": "5_W-Q62KAch6",
    "outputId": "09c0bed6-0a66-4e69-e4ce-14e9ddf1cd96"
   },
   "outputs": [],
   "source": [
    "nltk.download('punkt')\n",
    "nltk.download('stopwords')\n",
    "\n",
    "stop_words = set(stopwords.words('english'))\n",
    "\n",
    "\n",
    "def extract_keywords(text):\n",
    "    words = nltk.word_tokenize(text)\n",
    "    keywords = [word.lower() for word in words if word.lower() not in stop_words and word.isalpha()]\n",
    "    return \" \".join(keywords)\n",
    "\n",
    "df['text'] = df['text'].apply(extract_keywords)"
   ]
  },
  {
   "cell_type": "code",
   "execution_count": null,
   "metadata": {
    "id": "AKDC_qoUAfnq"
   },
   "outputs": [],
   "source": [
    "df.isnull().sum()\n",
    "df.dropna(inplace=True)"
   ]
  },
  {
   "cell_type": "code",
   "execution_count": null,
   "metadata": {
    "id": "qlvqCA3RAwiM"
   },
   "outputs": [],
   "source": [
    "X = df.text\n",
    "y = df.label"
   ]
  },
  {
   "cell_type": "markdown",
   "metadata": {},
   "source": [
    "### In Pipeline first converts text into vector\n",
    "### than applies RandomForestClassifier()"
   ]
  },
  {
   "cell_type": "code",
   "execution_count": null,
   "metadata": {
    "id": "FpSvX7SbAzoo"
   },
   "outputs": [],
   "source": [
    "PL = Pipeline( [\n",
    "    \n",
    "    (('vectorizer'), CountVectorizer()),\n",
    "    ('random_forest', RandomForestClassifier())\n",
    "    \n",
    "])"
   ]
  },
  {
   "cell_type": "code",
   "execution_count": null,
   "metadata": {
    "id": "TJ2uSGRWA6LW"
   },
   "outputs": [],
   "source": [
    "X = df.text\n",
    "y = df.label"
   ]
  },
  {
   "cell_type": "code",
   "execution_count": null,
   "metadata": {
    "colab": {
     "base_uri": "https://localhost:8080/",
     "height": 333
    },
    "id": "ZWX5_oRkA7Tg",
    "outputId": "6b9260c9-922c-4d7e-d0fd-297d6dd297c6"
   },
   "outputs": [],
   "source": [
    "score = cross_val_score(PL, X, y, cv = 5)\n",
    "score.mean()"
   ]
  },
  {
   "cell_type": "code",
   "execution_count": null,
   "metadata": {},
   "outputs": [],
   "source": [
    "PL.fit(X,y)"
   ]
  },
  {
   "cell_type": "markdown",
   "metadata": {
    "id": "-rQ1D9EGBEQZ"
   },
   "source": [
    "## Thanks"
   ]
  }
 ],
 "metadata": {
  "colab": {
   "provenance": []
  },
  "kernelspec": {
   "display_name": "Python 3 (ipykernel)",
   "language": "python",
   "name": "python3"
  },
  "language_info": {
   "codemirror_mode": {
    "name": "ipython",
    "version": 3
   },
   "file_extension": ".py",
   "mimetype": "text/x-python",
   "name": "python",
   "nbconvert_exporter": "python",
   "pygments_lexer": "ipython3",
   "version": "3.9.12"
  }
 },
 "nbformat": 4,
 "nbformat_minor": 1
}
